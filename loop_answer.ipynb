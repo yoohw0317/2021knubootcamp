{
  "nbformat": 4,
  "nbformat_minor": 0,
  "metadata": {
    "colab": {
      "name": "loop_answer.ipynb",
      "provenance": [],
      "collapsed_sections": [],
      "authorship_tag": "ABX9TyMdEo80zyMaM2L9hEkDckmS",
      "include_colab_link": true
    },
    "kernelspec": {
      "name": "python3",
      "display_name": "Python 3"
    },
    "language_info": {
      "name": "python"
    }
  },
  "cells": [
    {
      "cell_type": "markdown",
      "metadata": {
        "id": "view-in-github",
        "colab_type": "text"
      },
      "source": [
        "<a href=\"https://colab.research.google.com/github/yoohw0317/2021knubootcamp/blob/main/loop_answer.ipynb\" target=\"_parent\"><img src=\"https://colab.research.google.com/assets/colab-badge.svg\" alt=\"Open In Colab\"/></a>"
      ]
    },
    {
      "cell_type": "markdown",
      "source": [
        "KNU 컴퓨터과학 전공 유서후 작성"
      ],
      "metadata": {
        "id": "spfnvXZt4Yhg"
      }
    },
    {
      "cell_type": "markdown",
      "source": [
        "# 반복문을 한번 연습해봅시다\n",
        "반복문은 코드에 있어서 꼭 필요한 문법 중 하나입니다. 이론은 꽤나 간단할 수 있으나 어려운 문제를 푸시게 되거나 복잡한 수준의 프로그램을 하게 된다면 꽤나 골치 아플 수도 있습니다.\n",
        "\n",
        "오늘은 이런 반복문을 간단하게 트레이닝 할 수 있는 문제를 풀어봅시다!\n",
        "\n",
        "코드는 복사한 다음 원하시는 환경에서 작성해주시면 됩니다 :-)"
      ],
      "metadata": {
        "id": "Ei27oZJRt_ij"
      }
    },
    {
      "cell_type": "markdown",
      "source": [
        "# 1. for 문 사용\n",
        "반복문 for과 while을 사용하는 것은 '취향차이'라고 볼 수 있어요. 그런데 for문을 사용 했을 때 이득을 볼 수 있을 때가 일부 존재하기도 하죠. \n",
        "\n",
        "쉬운 문제로 몸을 풀어볼까요? \n",
        "\n",
        "* score는 정수로 이루어진 점수들이 들어있는 list입니다. 해당 list안에 들어있는 모든 원소들을 순서대로 출력하고, 역순으로 출력하는 코드를 작성해봅시다.\n",
        "\n",
        "* 단, score이 변경되어도 프로그램의 출력은 항상 옳게 출력되어야 합니다. 만약 score 안에 있는 원소의 개수가 10개에서 20개로 바뀐다고 하더라도 정상적으로 출력이 되어야합니다."
      ],
      "metadata": {
        "id": "7_X6lGj6unQB"
      }
    },
    {
      "cell_type": "code",
      "source": [
        "score = [100, 90, 80, 35, 40, 100, 20, 80, 70, 40, 50, 100, 20]\n",
        "\n",
        "print(\"= 순서대로 출력 =\")\n",
        "\n",
        "for a in score:\n",
        "  print(a, end=\" \")\n",
        "\n",
        "print(\"\\n\\n= 역순대로 출력 =\")\n",
        "\n",
        "for a in range(len(score)-1, -1, -1):\n",
        "  print(score[a], end=\" \")"
      ],
      "metadata": {
        "colab": {
          "base_uri": "https://localhost:8080/"
        },
        "id": "K9gaM4TAumbE",
        "outputId": "e70a55b1-d024-4c8f-b947-c253e9c9f575"
      },
      "execution_count": null,
      "outputs": [
        {
          "output_type": "stream",
          "name": "stdout",
          "text": [
            "= 순서대로 출력 =\n",
            "100 90 80 35 40 100 20 80 70 40 50 100 20 \n",
            "\n",
            "= 역순대로 출력 =\n",
            "20 100 50 40 70 80 20 100 40 35 80 90 100 "
          ]
        }
      ]
    },
    {
      "cell_type": "markdown",
      "source": [
        "===================================="
      ],
      "metadata": {
        "id": "mHbuiHA4500C"
      }
    },
    {
      "cell_type": "markdown",
      "source": [
        "# 2. for 문 사용2\n",
        "range로 for문을 돌릴 영역을 지정할 수 있다는 것을 배우셨을거예요.\n",
        "그렇다면 숫자를 입력했을 때, 그 숫자의 개수만큼 출력을 하려면 어떻게 해야할까요?\n",
        "\n",
        "만약 사용자가 3을 입력하면 0번째, 1번째, 2번째 총 3개의 원소를 출력하는 것이고 113을 입력하면 0번째, 1번째, 2번째, ..., 112번째 총 113개의 원소를 출력하는 것이죠!\n",
        "\n",
        "* score는 똑같이 정수로 이루어진 점수들이 들어있는 list입니다.\n",
        "\n",
        "* 프로그램은 사용자로부터 숫자를 입력 받습니다.\n",
        "\n",
        "* 그리고 입력받은 개수만큼 점수를 출력해주시면 됩니다.\n",
        "\n",
        "* 입력값은 무조건 정수로 고정됩니다. 입력값이 알파벳, 한글등과 같이 정상 범주를 벗어나게 되면 오류가 발생하므로 고려하지 않으셔도 됩니다.\n"
      ],
      "metadata": {
        "id": "Ccr0Gg0IxsjA"
      }
    },
    {
      "cell_type": "code",
      "source": [
        "score = [100, 90, 80, 35, 40, 100, 20, 80, 70, 40, 50, 100, 20, 100]\n",
        "\n",
        "n = int(input(\"점수를 몇 개 출력할까요?\\n\"))\n",
        "print()\n",
        "\n",
        "if n > len(score):\n",
        "  print(\"출력이 불가능한 개수입니다.\")\n",
        "else:\n",
        "  print(f'{n}개만큼 출력합니다.')\n",
        "  for a in range (0, n):\n",
        "    print(score[a], end=\" \")"
      ],
      "metadata": {
        "colab": {
          "base_uri": "https://localhost:8080/"
        },
        "id": "Uc_7JSkxzp3x",
        "outputId": "6903a24c-8a74-4abe-bcf2-ac9378fd248e"
      },
      "execution_count": null,
      "outputs": [
        {
          "output_type": "stream",
          "name": "stdout",
          "text": [
            "점수를 몇 개 출력할까요?\n",
            "11\n",
            "\n",
            "11개만큼 출력합니다.\n",
            "100 90 80 35 40 100 20 80 70 40 50 "
          ]
        }
      ]
    },
    {
      "cell_type": "markdown",
      "source": [
        "===================================="
      ],
      "metadata": {
        "id": "uzWA9TRC54uT"
      }
    },
    {
      "cell_type": "markdown",
      "source": [
        "# 3. for문 사용 - 평균\n",
        "for 문을 사용해서 평균값을 구해봅시다! 여기서 우리가 구하게 되는 평균은 산술평균입니다.\n",
        "\n",
        "* score는 또 똑같이 정수로 이루어진 점수들이 들어있는 list입니다.\n",
        "\n",
        "* for문을 이용해서 score 안에 들어있는 점수들의 평균값을 구해주세요.\n",
        "\n",
        "* 이번에도 score의 개수가 달라지는 등, score에 수정이 생겨도 똑같이 작동해야합니다."
      ],
      "metadata": {
        "id": "aLWokq8C59Vq"
      }
    },
    {
      "cell_type": "code",
      "source": [
        "score = [100, 90, 80, 35, 40, 100, 20, 80, 70, 40, 50, 100, 20, 100]\n",
        "average = 0\n",
        "\n",
        "for i in score:\n",
        "  average += i\n",
        "average /= len(score)\n",
        "print(\"== for 문을 이용한 평균 ==\")\n",
        "print(average)\n",
        "\n",
        "print(\"\\n\\n== 실제 평균 ==\")\n",
        "print(sum(score)/len(score))"
      ],
      "metadata": {
        "colab": {
          "base_uri": "https://localhost:8080/"
        },
        "id": "OEQ1I-7-589p",
        "outputId": "caa8337e-f58a-4a93-8093-4c221de8839f"
      },
      "execution_count": 19,
      "outputs": [
        {
          "output_type": "stream",
          "name": "stdout",
          "text": [
            "== for 문을 이용한 평균 ==\n",
            "66.07142857142857\n",
            "\n",
            "\n",
            "== 실제 평균 ==\n",
            "66.07142857142857\n"
          ]
        }
      ]
    }
  ]
}